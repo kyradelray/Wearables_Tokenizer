{
 "cells": [
  {
   "cell_type": "markdown",
   "metadata": {},
   "source": [
    "<h3>Tokenizer Evaluation on HAR, Sex "
   ]
  },
  {
   "cell_type": "markdown",
   "metadata": {},
   "source": [
    "Compare classification of magnitude model to tokenized magnitude with various quantisations. "
   ]
  },
  {
   "cell_type": "code",
   "execution_count": 2,
   "metadata": {},
   "outputs": [
    {
     "name": "stderr",
     "output_type": "stream",
     "text": [
      "/home/hrs675/Wearables_Tokenizer/.venv/lib64/python3.9/site-packages/tqdm/auto.py:21: TqdmWarning: IProgress not found. Please update jupyter and ipywidgets. See https://ipywidgets.readthedocs.io/en/stable/user_install.html\n",
      "  from .autonotebook import tqdm as notebook_tqdm\n"
     ]
    }
   ],
   "source": [
    "# Configure GPU\n",
    "\n",
    "import sys\n",
    "\n",
    "import os\n",
    "import numpy as np\n",
    "import pandas as pd\n",
    "import matplotlib.pyplot as plt\n",
    "import torch\n",
    "import torch.nn as nn\n",
    "import torch.nn.functional as F\n",
    "import torch.optim as optim\n",
    "import torch.backends.cudnn as cudnn\n",
    "from sklearn import metrics\n",
    "from sklearn.preprocessing import LabelEncoder\n",
    "from tqdm.auto import tqdm\n",
    "\n",
    "import utils\n",
    "\n",
    "# For reproducibility\n",
    "np.random.seed(42)\n",
    "torch.manual_seed(42)\n",
    "cudnn.benchmark = True\n"
   ]
  },
  {
   "cell_type": "markdown",
   "metadata": {},
   "source": [
    "Set up"
   ]
  },
  {
   "cell_type": "code",
   "execution_count": 1,
   "metadata": {},
   "outputs": [
    {
     "name": "stdout",
     "output_type": "stream",
     "text": [
      "PyTorch version: 2.7.0+cu126\n",
      "CUDA available: True\n",
      "Compiled with CUDA: 12.6\n",
      "GPU support enabled: True\n",
      "Using device: cuda\n"
     ]
    }
   ],
   "source": [
    "import torch\n",
    "print(\"PyTorch version:\", torch.__version__)\n",
    "print(\"CUDA available:\", torch.cuda.is_available())\n",
    "print(\"Compiled with CUDA:\", torch.version.cuda)\n",
    "print(\"GPU support enabled:\", torch.backends.cuda.is_built())\n",
    "device = torch.device(\"cuda\" if torch.cuda.is_available() else \"cpu\")\n",
    "print(\"Using device:\", device)"
   ]
  },
  {
   "cell_type": "markdown",
   "metadata": {},
   "source": [
    "Load data"
   ]
  },
  {
   "cell_type": "code",
   "execution_count": 3,
   "metadata": {},
   "outputs": [],
   "source": [
    "import pandas as pd\n",
    "\n",
    "#tokenized string for each participant - about a day of data. \n",
    "pid_tokens=pd.read_csv(\"/home/hrs675/Wearables_Tokenizer/data/pid_token_string_numbers.csv\")"
   ]
  },
  {
   "cell_type": "code",
   "execution_count": 4,
   "metadata": {},
   "outputs": [
    {
     "data": {
      "text/html": [
       "<div>\n",
       "<style scoped>\n",
       "    .dataframe tbody tr th:only-of-type {\n",
       "        vertical-align: middle;\n",
       "    }\n",
       "\n",
       "    .dataframe tbody tr th {\n",
       "        vertical-align: top;\n",
       "    }\n",
       "\n",
       "    .dataframe thead th {\n",
       "        text-align: right;\n",
       "    }\n",
       "</style>\n",
       "<table border=\"1\" class=\"dataframe\">\n",
       "  <thead>\n",
       "    <tr style=\"text-align: right;\">\n",
       "      <th></th>\n",
       "      <th>pid</th>\n",
       "      <th>token_string</th>\n",
       "    </tr>\n",
       "  </thead>\n",
       "  <tbody>\n",
       "    <tr>\n",
       "      <th>0</th>\n",
       "      <td>P030</td>\n",
       "      <td>1 b 1 b 3 bb 4 b 3 bbb 1 bb 4 b 2 b 1 bb 4 bb...</td>\n",
       "    </tr>\n",
       "    <tr>\n",
       "      <th>1</th>\n",
       "      <td>P036</td>\n",
       "      <td>kjfgghhjlhhhihhighggjigheddddddcdefefeekkgjjhi...</td>\n",
       "    </tr>\n",
       "    <tr>\n",
       "      <th>2</th>\n",
       "      <td>P113</td>\n",
       "      <td>bbbbbbbbbbbbbbbbbbbbbbbbbbbbbbbbbbbbcbbbebbbbb...</td>\n",
       "    </tr>\n",
       "    <tr>\n",
       "      <th>3</th>\n",
       "      <td>P048</td>\n",
       "      <td>cbb 2 gebbbb 1 bbbbbbbbbbbbbbbbbbbbbbbbbbbbbbb...</td>\n",
       "    </tr>\n",
       "    <tr>\n",
       "      <th>4</th>\n",
       "      <td>P099</td>\n",
       "      <td>1 c 1 cbbcbbbbbbccccccccccccccccccccccccccccc...</td>\n",
       "    </tr>\n",
       "  </tbody>\n",
       "</table>\n",
       "</div>"
      ],
      "text/plain": [
       "    pid                                       token_string\n",
       "0  P030   1 b 1 b 3 bb 4 b 3 bbb 1 bb 4 b 2 b 1 bb 4 bb...\n",
       "1  P036  kjfgghhjlhhhihhighggjigheddddddcdefefeekkgjjhi...\n",
       "2  P113  bbbbbbbbbbbbbbbbbbbbbbbbbbbbbbbbbbbbcbbbebbbbb...\n",
       "3  P048  cbb 2 gebbbb 1 bbbbbbbbbbbbbbbbbbbbbbbbbbbbbbb...\n",
       "4  P099   1 c 1 cbbcbbbbbbccccccccccccccccccccccccccccc..."
      ]
     },
     "execution_count": 4,
     "metadata": {},
     "output_type": "execute_result"
    }
   ],
   "source": [
    "pid_tokens['pid'] = pid_tokens['pid'].str[:4]\n",
    "pid_tokens.head()"
   ]
  },
  {
   "cell_type": "code",
   "execution_count": 5,
   "metadata": {},
   "outputs": [],
   "source": [
    "metadata= pd.read_csv(\"/data/UKBB/kyra/capture24/metadata.csv\")"
   ]
  },
  {
   "cell_type": "code",
   "execution_count": 6,
   "metadata": {},
   "outputs": [
    {
     "data": {
      "text/html": [
       "<div>\n",
       "<style scoped>\n",
       "    .dataframe tbody tr th:only-of-type {\n",
       "        vertical-align: middle;\n",
       "    }\n",
       "\n",
       "    .dataframe tbody tr th {\n",
       "        vertical-align: top;\n",
       "    }\n",
       "\n",
       "    .dataframe thead th {\n",
       "        text-align: right;\n",
       "    }\n",
       "</style>\n",
       "<table border=\"1\" class=\"dataframe\">\n",
       "  <thead>\n",
       "    <tr style=\"text-align: right;\">\n",
       "      <th></th>\n",
       "      <th>pid</th>\n",
       "      <th>age</th>\n",
       "      <th>sex</th>\n",
       "      <th>token_string</th>\n",
       "    </tr>\n",
       "  </thead>\n",
       "  <tbody>\n",
       "    <tr>\n",
       "      <th>0</th>\n",
       "      <td>P001</td>\n",
       "      <td>38-52</td>\n",
       "      <td>F</td>\n",
       "      <td>bb 3 bbbbbbbbb 1 bbbbbbbbbbbbbbbbbbbbbbbbbbbbb...</td>\n",
       "    </tr>\n",
       "    <tr>\n",
       "      <th>1</th>\n",
       "      <td>P002</td>\n",
       "      <td>30-37</td>\n",
       "      <td>F</td>\n",
       "      <td>cccbbbbbbbbbbbbbbbbbbbbbbbbbbbbbbbbbbbbbbbbbbb...</td>\n",
       "    </tr>\n",
       "    <tr>\n",
       "      <th>2</th>\n",
       "      <td>P003</td>\n",
       "      <td>30-37</td>\n",
       "      <td>F</td>\n",
       "      <td>bbbbbbbbbbbbbbbbbbbbbbbbbbbbbbbbbbbbbbbbbbbbbb...</td>\n",
       "    </tr>\n",
       "    <tr>\n",
       "      <th>3</th>\n",
       "      <td>P004</td>\n",
       "      <td>53+</td>\n",
       "      <td>F</td>\n",
       "      <td>21 b 3 ebbbbbbbbbcbbbbbbbbbcbbbbbbbdgbbbbcbbb...</td>\n",
       "    </tr>\n",
       "    <tr>\n",
       "      <th>4</th>\n",
       "      <td>P005</td>\n",
       "      <td>38-52</td>\n",
       "      <td>F</td>\n",
       "      <td>cccccccccccccccccccccccccccccccccccccccccccccc...</td>\n",
       "    </tr>\n",
       "  </tbody>\n",
       "</table>\n",
       "</div>"
      ],
      "text/plain": [
       "    pid    age sex                                       token_string\n",
       "0  P001  38-52   F  bb 3 bbbbbbbbb 1 bbbbbbbbbbbbbbbbbbbbbbbbbbbbb...\n",
       "1  P002  30-37   F  cccbbbbbbbbbbbbbbbbbbbbbbbbbbbbbbbbbbbbbbbbbbb...\n",
       "2  P003  30-37   F  bbbbbbbbbbbbbbbbbbbbbbbbbbbbbbbbbbbbbbbbbbbbbb...\n",
       "3  P004    53+   F   21 b 3 ebbbbbbbbbcbbbbbbbbbcbbbbbbbdgbbbbcbbb...\n",
       "4  P005  38-52   F  cccccccccccccccccccccccccccccccccccccccccccccc..."
      ]
     },
     "execution_count": 6,
     "metadata": {},
     "output_type": "execute_result"
    }
   ],
   "source": [
    "#combine meta data and token strings]\n",
    "meta_tokens= pd.merge(metadata, pid_tokens, on='pid', how='inner')\n",
    "meta_tokens.head()"
   ]
  },
  {
   "cell_type": "code",
   "execution_count": 7,
   "metadata": {},
   "outputs": [],
   "source": [
    "# Save the combined meta_tokens DataFrame to CSV\n",
    "meta_tokens.to_csv(\"/home/hrs675/Wearables_Tokenizer/data/meta_tokens.csv\", index=False)"
   ]
  },
  {
   "cell_type": "markdown",
   "metadata": {},
   "source": [
    "Train/ Test split"
   ]
  },
  {
   "cell_type": "code",
   "execution_count": 8,
   "metadata": {},
   "outputs": [],
   "source": [
    "import torch\n",
    "import torch.nn as nn\n",
    "from torch.utils.data import Dataset, DataLoader\n",
    "from sklearn.preprocessing import LabelEncoder\n",
    "from sklearn.model_selection import train_test_split\n",
    "from sklearn.metrics import accuracy_score\n",
    "from tokenizers import Tokenizer\n",
    "import numpy as np\n"
   ]
  },
  {
   "cell_type": "code",
   "execution_count": 11,
   "metadata": {},
   "outputs": [
    {
     "name": "stdout",
     "output_type": "stream",
     "text": [
      "True\n",
      "3\n"
     ]
    }
   ],
   "source": [
    "import torch\n",
    "print(torch.cuda.is_available())  # Should return True\n",
    "print(torch.cuda.device_count())  # Should be >= 1\n"
   ]
  },
  {
   "cell_type": "code",
   "execution_count": 9,
   "metadata": {},
   "outputs": [],
   "source": [
    "# Your raw inputs\n",
    "X = meta_tokens['token_string']\n",
    "Y = meta_tokens['sex']\n",
    "\n",
    "# Load your tokenizer\n",
    "tokenizer = Tokenizer.from_file(\"/home/hrs675/Wearables_Tokenizer/Trained Tokenizers/trained_tokenizer_2.json\")\n",
    "\n",
    "def encode_token_string(tokenizer, s, max_len=512):\n",
    "    ids = tokenizer.encode(s).ids\n",
    "    if len(ids) < max_len:\n",
    "        ids += [0] * (max_len - len(ids))\n",
    "    else:\n",
    "        ids = ids[:max_len]\n",
    "    return ids\n",
    "\n",
    "X_ids = [encode_token_string(tokenizer, s) for s in X]\n",
    "\n",
    "# Encode labels (e.g., Male/Female -> 0/1)\n",
    "le = LabelEncoder()\n",
    "Y_encoded = le.fit_transform(Y)\n",
    "\n",
    "# Train/test split\n",
    "X_train, X_test, Y_train, Y_test = train_test_split(X_ids, Y_encoded, test_size=0.2, random_state=42)\n"
   ]
  },
  {
   "cell_type": "code",
   "execution_count": 10,
   "metadata": {},
   "outputs": [],
   "source": [
    "class TokenSexDataset(Dataset):\n",
    "    def __init__(self, X_token_ids, Y_sex):\n",
    "        self.X = torch.tensor(X_token_ids, dtype=torch.long)\n",
    "        self.Y = torch.tensor(Y_sex, dtype=torch.long)\n",
    "\n",
    "    def __len__(self):\n",
    "        return len(self.X)\n",
    "\n",
    "    def __getitem__(self, idx):\n",
    "        return self.X[idx], self.Y[idx]\n"
   ]
  },
  {
   "cell_type": "code",
   "execution_count": 11,
   "metadata": {},
   "outputs": [],
   "source": [
    "class TransformerWithSex(nn.Module):\n",
    "    def __init__(self, vocab_size, emb_dim=128, nhead=4, num_layers=2, max_len=512, sex_emb_dim=16, num_classes=2):\n",
    "        super().__init__()\n",
    "\n",
    "        self.token_emb = nn.Embedding(vocab_size, emb_dim)\n",
    "        self.pos_emb = nn.Parameter(torch.zeros(1, max_len, emb_dim))\n",
    "        self.sex_emb = nn.Embedding(2, sex_emb_dim)\n",
    "\n",
    "        encoder_layer = nn.TransformerEncoderLayer(d_model=emb_dim, nhead=nhead, batch_first=True)\n",
    "        self.transformer = nn.TransformerEncoder(encoder_layer, num_layers=num_layers)\n",
    "\n",
    "        self.fc = nn.Sequential(\n",
    "            nn.Linear(emb_dim + sex_emb_dim, 128),\n",
    "            nn.ReLU(),\n",
    "            nn.Linear(128, num_classes)\n",
    "        )\n",
    "\n",
    "    def forward(self, token_ids, sex):\n",
    "        x = self.token_emb(token_ids) + self.pos_emb[:, :token_ids.size(1), :]\n",
    "        x = self.transformer(x)\n",
    "        x_pooled = x.mean(dim=1)\n",
    "        sex_e = self.sex_emb(sex)\n",
    "        x_combined = torch.cat([x_pooled, sex_e], dim=1)\n",
    "        return self.fc(x_combined)\n"
   ]
  },
  {
   "cell_type": "code",
   "execution_count": 12,
   "metadata": {},
   "outputs": [],
   "source": [
    "import os\n",
    "os.environ[\"CUDA_VISIBLE_DEVICES\"] = \"0\"\n"
   ]
  },
  {
   "cell_type": "code",
   "execution_count": 13,
   "metadata": {},
   "outputs": [],
   "source": [
    "import torch\n",
    "device = torch.device(\"cuda:0\" if torch.cuda.is_available() else \"cpu\")\n"
   ]
  },
  {
   "cell_type": "code",
   "execution_count": 14,
   "metadata": {},
   "outputs": [
    {
     "name": "stderr",
     "output_type": "stream",
     "text": [
      "/home/hrs675/Wearables_Tokenizer/.venv/lib64/python3.9/site-packages/networkx/utils/backends.py:135: RuntimeWarning: networkx backend defined more than once: nx-loopback\n",
      "  backends.update(_get_backends(\"networkx.backends\"))\n"
     ]
    }
   ],
   "source": [
    "# Dataloaders\n",
    "train_loader = DataLoader(TokenSexDataset(X_train, Y_train), batch_size=32, shuffle=True)\n",
    "test_loader = DataLoader(TokenSexDataset(X_test, Y_test), batch_size=32)\n",
    "\n",
    "# Model, loss, optimizer\n",
    "model = TransformerWithSex(vocab_size=tokenizer.get_vocab_size()).to(device)\n",
    "criterion = nn.CrossEntropyLoss()\n",
    "optimizer = torch.optim.Adam(model.parameters(), lr=1e-4)\n"
   ]
  },
  {
   "cell_type": "code",
   "execution_count": 15,
   "metadata": {},
   "outputs": [],
   "source": [
    "train_losses = []\n",
    "train_accuracies = []\n",
    "test_accuracies = []\n",
    "epochs = 20"
   ]
  },
  {
   "cell_type": "code",
   "execution_count": 16,
   "metadata": {},
   "outputs": [
    {
     "name": "stdout",
     "output_type": "stream",
     "text": [
      "Epoch 1/20 | Loss: 2.4308 | Train Acc: 0.6667 | Test Acc: 0.6129\n",
      "Epoch 2/20 | Loss: 2.1374 | Train Acc: 0.6667 | Test Acc: 0.6129\n",
      "Epoch 3/20 | Loss: 2.0896 | Train Acc: 0.6667 | Test Acc: 0.6129\n",
      "Epoch 4/20 | Loss: 2.0325 | Train Acc: 0.6667 | Test Acc: 0.6129\n",
      "Epoch 5/20 | Loss: 1.9866 | Train Acc: 0.6667 | Test Acc: 0.6129\n",
      "Epoch 6/20 | Loss: 1.9531 | Train Acc: 0.6667 | Test Acc: 0.6129\n",
      "Epoch 7/20 | Loss: 1.9551 | Train Acc: 0.6667 | Test Acc: 0.6129\n",
      "Epoch 8/20 | Loss: 1.8903 | Train Acc: 0.6667 | Test Acc: 0.6129\n",
      "Epoch 9/20 | Loss: 1.8723 | Train Acc: 0.6667 | Test Acc: 0.6129\n",
      "Epoch 10/20 | Loss: 1.8333 | Train Acc: 0.7417 | Test Acc: 0.6452\n",
      "Epoch 11/20 | Loss: 1.7960 | Train Acc: 0.6917 | Test Acc: 0.6129\n",
      "Epoch 12/20 | Loss: 1.7695 | Train Acc: 0.6750 | Test Acc: 0.6129\n",
      "Epoch 13/20 | Loss: 1.7472 | Train Acc: 0.6750 | Test Acc: 0.6129\n",
      "Epoch 14/20 | Loss: 1.7058 | Train Acc: 0.7333 | Test Acc: 0.9677\n",
      "Epoch 15/20 | Loss: 1.6757 | Train Acc: 0.9833 | Test Acc: 1.0000\n",
      "Epoch 16/20 | Loss: 1.6466 | Train Acc: 0.9917 | Test Acc: 0.9677\n",
      "Epoch 17/20 | Loss: 1.6075 | Train Acc: 0.9667 | Test Acc: 0.7742\n",
      "Epoch 18/20 | Loss: 1.5839 | Train Acc: 0.9333 | Test Acc: 0.9355\n",
      "Epoch 19/20 | Loss: 1.5349 | Train Acc: 0.9917 | Test Acc: 1.0000\n",
      "Epoch 20/20 | Loss: 1.5466 | Train Acc: 0.9667 | Test Acc: 1.0000\n"
     ]
    }
   ],
   "source": [
    "\n",
    "for epoch in range(epochs):\n",
    "    model.train()\n",
    "    total_loss = 0\n",
    "    train_preds, train_labels = [], []\n",
    "\n",
    "    for token_ids_batch, sex_batch in train_loader:\n",
    "        token_ids_batch = token_ids_batch.to(device)\n",
    "        sex_batch = sex_batch.to(device)\n",
    "\n",
    "        optimizer.zero_grad()\n",
    "        outputs = model(token_ids_batch, sex_batch)\n",
    "        loss = criterion(outputs, sex_batch)\n",
    "        loss.backward()\n",
    "        optimizer.step()\n",
    "\n",
    "        total_loss += loss.item()\n",
    "\n",
    "        preds = torch.argmax(outputs, dim=1)\n",
    "        train_preds.extend(preds.cpu().numpy())\n",
    "        train_labels.extend(sex_batch.cpu().numpy())\n",
    "\n",
    "    train_acc = accuracy_score(train_labels, train_preds)\n",
    "    train_accuracies.append(train_acc)\n",
    "    train_losses.append(total_loss)\n",
    "\n",
    "    # Evaluation\n",
    "    model.eval()\n",
    "    test_preds, test_labels = [], []\n",
    "\n",
    "    with torch.no_grad():\n",
    "        for token_ids_batch, sex_batch in test_loader:\n",
    "            token_ids_batch = token_ids_batch.to(device)\n",
    "            sex_batch = sex_batch.to(device)\n",
    "            outputs = model(token_ids_batch, sex_batch)\n",
    "            preds = torch.argmax(outputs, dim=1)\n",
    "\n",
    "            test_preds.extend(preds.cpu().numpy())\n",
    "            test_labels.extend(sex_batch.cpu().numpy())\n",
    "\n",
    "    test_acc = accuracy_score(test_labels, test_preds)\n",
    "    test_accuracies.append(test_acc)\n",
    "\n",
    "    print(f\"Epoch {epoch+1}/{epochs} | Loss: {total_loss:.4f} | Train Acc: {train_acc:.4f} | Test Acc: {test_acc:.4f}\")\n"
   ]
  },
  {
   "cell_type": "code",
   "execution_count": 18,
   "metadata": {},
   "outputs": [
    {
     "data": {
      "image/png": "[encoded data removed]",
      "text/plain": [
       "<Figure size 2000x400 with 2 Axes>"
      ]
     },
     "metadata": {},
     "output_type": "display_data"
    }
   ],
   "source": [
    "plt.figure(figsize=(20, 4))\n",
    "\n",
    "# Loss\n",
    "plt.subplot(1, 2, 1)\n",
    "plt.plot(train_losses, marker='o')\n",
    "plt.title(\"Training Loss per Epoch\")\n",
    "plt.xlabel(\"Epoch\")\n",
    "plt.ylabel(\"Loss\")\n",
    "\n",
    "# Accuracy\n",
    "plt.subplot(1, 2, 2)\n",
    "plt.plot(test_accuracies, marker='o')\n",
    "plt.title(\"Test Accuracy per Epoch\")\n",
    "plt.xlabel(\"Epoch\")\n",
    "plt.ylabel(\"Accuracy\")\n",
    "\n",
    "plt.tight_layout()\n",
    "plt.show()\n"
   ]
  },
  {
   "cell_type": "code",
   "execution_count": 22,
   "metadata": {},
   "outputs": [
    {
     "name": "stdout",
     "output_type": "stream",
     "text": [
      "   Actual Sex Predicted Sex\n",
      "0           F             F\n",
      "1           F             F\n",
      "2           M             M\n",
      "3           M             M\n",
      "4           M             M\n",
      "5           M             M\n",
      "6           F             F\n",
      "7           F             F\n",
      "8           F             F\n",
      "9           F             F\n",
      "10          F             F\n",
      "11          M             M\n",
      "12          F             F\n",
      "13          F             F\n",
      "14          M             M\n",
      "15          F             F\n",
      "16          F             F\n",
      "17          F             F\n",
      "18          M             M\n",
      "19          M             M\n",
      "20          M             M\n",
      "21          F             F\n",
      "22          F             F\n",
      "23          F             F\n",
      "24          F             F\n"
     ]
    }
   ],
   "source": [
    "import pandas as pd\n",
    "\n",
    "# Decode numeric labels back to original \"Male\"/\"Female\" labels\n",
    "actual_labels = le.inverse_transform(test_labels)\n",
    "predicted_labels = le.inverse_transform(test_preds)\n",
    "\n",
    "# Create DataFrame to show results\n",
    "results_df = pd.DataFrame({\n",
    "    \"Actual Sex\": actual_labels,\n",
    "    \"Predicted Sex\": predicted_labels\n",
    "})\n",
    "\n",
    "# Display first 20 rows (or all)\n",
    "print(results_df.head(25))  # or .to_string(index=False) for cleaner output\n"
   ]
  }
 ],
 "metadata": {
  "kernelspec": {
   "display_name": ".venv",
   "language": "python",
   "name": "python3"
  },
  "language_info": {
   "codemirror_mode": {
    "name": "ipython",
    "version": 3
   },
   "file_extension": ".py",
   "mimetype": "text/x-python",
   "name": "python",
   "nbconvert_exporter": "python",
   "pygments_lexer": "ipython3",
   "version": "3.9.21"
  }
 },
 "nbformat": 4,
 "nbformat_minor": 2
}
